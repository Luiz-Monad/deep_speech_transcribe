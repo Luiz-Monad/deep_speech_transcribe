{
  "cells": [
    {
      "cell_type": "markdown",
      "metadata": {
        "vscode": {
          "languageId": "shellscript"
        }
      },
      "source": [
        "**Environment**\n",
        "\n"
      ]
    },
    {
      "cell_type": "code",
      "execution_count": null,
      "metadata": {
        "vscode": {
          "languageId": "shellscript"
        }
      },
      "outputs": [
        {
          "name": "stdout",
          "output_type": "stream",
          "text": [
            "skipping\n"
          ]
        }
      ],
      "source": [
        "%%script echo skipping\n",
        "\n",
        "#conda create --name deep_speech\n",
        "#conda activate deep_speech\n",
        "#conda install -n deep_speech pip\n",
        "#conda install -n deep_speech numpy\n",
        "#conda install -n deep_speech ipykernel --update-deps --force-reinstall\n",
        "#conda install -n deep_speech deepspeech\n",
        "#python -m ipykernel install --user --name=deep_speech\n",
        "\n",
        "virtualenv -p python3 deepspeech-venv\n",
        "source deepspeech-venv/bin/activate\n",
        "pip3 install ipykernel\n",
        "pip3 install numpy\n"
      ]
    },
    {
      "cell_type": "markdown",
      "metadata": {
        "id": "CDBRVP_xYPrJ"
      },
      "source": [
        "**Acoustic model**"
      ]
    },
    {
      "cell_type": "code",
      "execution_count": null,
      "metadata": {
        "colab": {
          "base_uri": "https://localhost:8080/"
        },
        "id": "SkZpQBiyNN4w",
        "outputId": "d42b7e7f-db61-4d99-e0c3-e1e3fb7c100b"
      },
      "outputs": [],
      "source": [
        "!wget https://github.com/mozilla/DeepSpeech/releases/download/v0.9.3/deepspeech-0.9.3-models.pbmm"
      ]
    },
    {
      "cell_type": "markdown",
      "metadata": {
        "id": "cjKJbcYQYVxU"
      },
      "source": [
        "**Language model**"
      ]
    },
    {
      "cell_type": "code",
      "execution_count": null,
      "metadata": {
        "colab": {
          "base_uri": "https://localhost:8080/"
        },
        "id": "aV-fdWekX7KB",
        "outputId": "2330948b-bf04-41fa-ca38-c7ac764d4448"
      },
      "outputs": [],
      "source": [
        "!wget https://github.com/mozilla/DeepSpeech/releases/download/v0.9.3/deepspeech-0.9.3-models.scorer"
      ]
    },
    {
      "cell_type": "markdown",
      "metadata": {},
      "source": [
        "**Test data**"
      ]
    },
    {
      "cell_type": "code",
      "execution_count": null,
      "metadata": {},
      "outputs": [],
      "source": [
        "!wget https://github.com/mozilla/DeepSpeech/releases/download/v0.9.3/audio-0.9.3.tar.gz\n",
        "!tar xvf audio-0.9.3.tar.gz"
      ]
    },
    {
      "cell_type": "code",
      "execution_count": null,
      "metadata": {
        "colab": {
          "base_uri": "https://localhost:8080/"
        },
        "id": "2d1neIhUYb0g",
        "outputId": "76c751a0-fff2-4120-e3f0-cb71f0910b48"
      },
      "outputs": [],
      "source": [
        "#apt install libasound2-dev portaudio19-dev libportaudio2 libportaudiocpp0 ffmpeg"
      ]
    },
    {
      "cell_type": "code",
      "execution_count": 1,
      "metadata": {
        "id": "HBBvsO0NWbjx"
      },
      "outputs": [],
      "source": [
        "from deepspeech import Model\n",
        "import numpy as np\n",
        "import os\n",
        "import wave\n",
        "import json\n",
        "\n",
        "from IPython.display import Audio"
      ]
    },
    {
      "cell_type": "code",
      "execution_count": null,
      "metadata": {
        "id": "REDZIHM_WvpK"
      },
      "outputs": [],
      "source": [
        "model_file_path = 'deepspeech-0.9.3-models.pbmm'\n",
        "lm_file_path = 'deepspeech-0.9.3-models.scorer'\n",
        "beam_width = 100\n",
        "lm_alpha = 0.93\n",
        "lm_beta = 1.18\n",
        "\n",
        "model = Model(model_file_path)\n",
        "model.enableExternalScorer(lm_file_path)"
      ]
    },
    {
      "cell_type": "code",
      "execution_count": 4,
      "metadata": {
        "colab": {
          "base_uri": "https://localhost:8080/",
          "height": 35
        },
        "id": "VqHrhlM_PpT_",
        "outputId": "c8df5ef1-20dd-4ea4-f7f5-0401f541ed43"
      },
      "outputs": [
        {
          "data": {
            "text/plain": [
              "0"
            ]
          },
          "execution_count": 4,
          "metadata": {},
          "output_type": "execute_result"
        }
      ],
      "source": [
        "model.setScorerAlphaBeta(lm_alpha, lm_beta)\n",
        "model.setBeamWidth(beam_width)"
      ]
    },
    {
      "cell_type": "code",
      "execution_count": 5,
      "metadata": {
        "id": "X_79ctunJYUC"
      },
      "outputs": [],
      "source": [
        "stream = model.createStream()"
      ]
    },
    {
      "cell_type": "markdown",
      "metadata": {
        "id": "0GMCVv19Y3Kb"
      },
      "source": [
        "### Function to read the audio file"
      ]
    },
    {
      "cell_type": "code",
      "execution_count": 6,
      "metadata": {
        "id": "KG7qkbaAEFf2"
      },
      "outputs": [],
      "source": [
        "def read_audio_file(filename):\n",
        "    with wave.open(filename, 'rb') as w:\n",
        "        rate = w.getframerate()\n",
        "        frames = w.getnframes()\n",
        "        buffer = w.readframes(frames)\n",
        "\n",
        "    return buffer, rate"
      ]
    },
    {
      "cell_type": "markdown",
      "metadata": {
        "id": "yOOlha2XY4_v"
      },
      "source": [
        "### Function to perform the transcription"
      ]
    },
    {
      "cell_type": "code",
      "execution_count": 7,
      "metadata": {
        "id": "pE_6kKF6Wzlx"
      },
      "outputs": [],
      "source": [
        "from IPython.display import clear_output\n",
        "\n",
        "def real_time_transcription(audio_file):\n",
        "    buffer, rate = read_audio_file(audio_file)\n",
        "    offset=0\n",
        "    batch_size=8196\n",
        "    text=''\n",
        "\n",
        "    while offset < len(buffer):\n",
        "      end_offset=offset+batch_size\n",
        "      chunk=buffer[offset:end_offset]\n",
        "      data16 = np.frombuffer(chunk, dtype=np.int16)\n",
        "\n",
        "      stream.feedAudioContent(data16)\n",
        "      text=stream.intermediateDecode()\n",
        "      \n",
        "      print(text)\n",
        "      offset=end_offset\n",
        "    return True"
      ]
    },
    {
      "cell_type": "code",
      "execution_count": null,
      "metadata": {
        "colab": {
          "base_uri": "https://localhost:8080/"
        },
        "id": "6-wvyGJFcj9j",
        "outputId": "a500c73a-a06d-43bf-97a8-ab81e622e792"
      },
      "outputs": [],
      "source": [
        "!wget -O speech.wav https://github.com/EN10/DeepSpeech/blob/master/man1_wb.wav?raw=true"
      ]
    },
    {
      "cell_type": "code",
      "execution_count": null,
      "metadata": {
        "colab": {
          "base_uri": "https://localhost:8080/",
          "height": 75
        },
        "id": "a7YdSoLWmHFZ",
        "outputId": "f4bf1de4-03fb-47e4-958b-2a408da17e78"
      },
      "outputs": [],
      "source": [
        "Audio('speech.wav')"
      ]
    },
    {
      "cell_type": "markdown",
      "metadata": {},
      "source": []
    },
    {
      "cell_type": "code",
      "execution_count": 11,
      "metadata": {
        "colab": {
          "base_uri": "https://localhost:8080/",
          "height": 644
        },
        "id": "lJJSGN_dcO-i",
        "outputId": "c1e66e3f-ac39-4d92-c85c-dae78bbdbb46"
      },
      "outputs": [
        {
          "name": "stdout",
          "output_type": "stream",
          "text": [
            "\n",
            "\n",
            "\n",
            "in the car\n",
            "in the course of a\n",
            "in the course of a dice\n",
            "in the course of a december \n",
            "in the course of a december \n",
            "in the course of a december tour \n",
            "in the course of a december tour in your\n",
            "in the course of a december tour in yorkshire\n",
            "in the course of a december tour in yorkshire\n",
            "in the course of a december tour in yorkshire\n",
            "in the course of a december tour in yorkshire i \n",
            "in the course of a december tour in yorkshire i rode for\n",
            "in the course of a december tour in yorkshire i rode for a long\n",
            "in the course of a december tour in yorkshire i rode for a long vista\n",
            "in the course of a december tour in yorkshire i rode for a long vista\n",
            "in the course of a december tour in yorkshire i rode for a long distance in \n",
            "in the course of a december tour in yorkshire i rode for a long distance in one of the \n",
            "in the course of a december tour in yorkshire i rode for a long distance in one of the public\n",
            "in the course of a december tour in yorkshire i rode for a long distance in one of the public coach\n",
            "in the course of a december tour in yorkshire i rode for a long distance in one of the public coach\n",
            "in the course of a december tour in yorkshire i rode for a long distance in one of the public coaches\n",
            "in the course of a december tour in yorkshire i rode for a long distance in one of the public coaches on \n",
            "in the course of a december tour in yorkshire i rode for a long distance in one of the public coaches on the day\n",
            "in the course of a december tour in yorkshire i rode for a long distance in one of the public coaches on the day pre\n",
            "in the course of a december tour in yorkshire i rode for a long distance in one of the public coaches on the day pre\n",
            "in the course of a december tour in yorkshire i rode for a long distance in one of the public coaches on the day preceding\n",
            "in the course of a december tour in yorkshire i rode for a long distance in one of the public coaches on the day preceding christ\n",
            "in the course of a december tour in yorkshire i rode for a long distance in one of the public coaches on the day preceding christmas\n",
            "in the course of a december tour in yorkshire i rode for a long distance in one of the public coaches on the day preceding christmas\n",
            "in the course of a december tour in yorkshire i rode for a long distance in one of the public coaches on the day preceding christmas\n"
          ]
        },
        {
          "data": {
            "text/plain": [
              "True"
            ]
          },
          "execution_count": 11,
          "metadata": {},
          "output_type": "execute_result"
        }
      ],
      "source": [
        "real_time_transcription('speech.wav')"
      ]
    }
  ],
  "metadata": {
    "colab": {
      "name": "Speech_to_Text_Streaming_Transcription.ipynb",
      "provenance": [],
      "toc_visible": true
    },
    "interpreter": {
      "hash": "41c32459d829448a0f3953f8166288e08d93b38933e9b1e7e4050651ceabb1f4"
    },
    "kernelspec": {
      "display_name": "deep_speech",
      "language": "python",
      "name": "python3"
    },
    "language_info": {
      "codemirror_mode": {
        "name": "ipython",
        "version": 3
      },
      "file_extension": ".py",
      "mimetype": "text/x-python",
      "name": "python",
      "nbconvert_exporter": "python",
      "pygments_lexer": "ipython3",
      "version": "3.9.7"
    }
  },
  "nbformat": 4,
  "nbformat_minor": 0
}
